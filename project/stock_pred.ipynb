{
 "cells": [
  {
   "cell_type": "code",
   "execution_count": 1,
   "metadata": {
    "_cell_guid": "b1076dfc-b9ad-4769-8c92-a6c4dae69d19",
    "_uuid": "8f2839f25d086af736a60e9eeb907d3b93b6e0e5",
    "execution": {
     "iopub.execute_input": "2021-01-06T18:39:23.476614Z",
     "iopub.status.busy": "2021-01-06T18:39:23.475917Z",
     "iopub.status.idle": "2021-01-06T18:39:28.672344Z",
     "shell.execute_reply": "2021-01-06T18:39:28.671716Z"
    },
    "papermill": {
     "duration": 5.216208,
     "end_time": "2021-01-06T18:39:28.672465",
     "exception": false,
     "start_time": "2021-01-06T18:39:23.456257",
     "status": "completed"
    },
    "tags": []
   },
   "outputs": [],
   "source": [
    "import numpy as np\n",
    "import pandas as pd\n",
    "from sklearn.model_selection import train_test_split\n",
    "import keras\n",
    "from sklearn.preprocessing import MinMaxScaler\n",
    "from sklearn.metrics import mean_squared_error\n",
    "from keras.models import Sequential\n",
    "from keras.layers import Dense\n",
    "from keras.layers import LSTM\n",
    "from keras.layers import Dropout\n",
    "from keras.layers import Input\n",
    "import keras\n",
    "import matplotlib.pyplot as plt"
   ]
  },
  {
   "cell_type": "code",
   "execution_count": 2,
   "metadata": {
    "_cell_guid": "79c7e3d0-c299-4dcb-8224-4455121ee9b0",
    "_uuid": "d629ff2d2480ee46fbb7e2d37f6b5fab8052498a",
    "execution": {
     "iopub.execute_input": "2021-01-06T18:39:28.706130Z",
     "iopub.status.busy": "2021-01-06T18:39:28.705528Z",
     "iopub.status.idle": "2021-01-06T18:39:28.732063Z",
     "shell.execute_reply": "2021-01-06T18:39:28.731501Z"
    },
    "papermill": {
     "duration": 0.047147,
     "end_time": "2021-01-06T18:39:28.732172",
     "exception": false,
     "start_time": "2021-01-06T18:39:28.685025",
     "status": "completed"
    },
    "tags": []
   },
   "outputs": [],
   "source": [
    "df = pd.read_csv(\"../input/google/google.csv\",index_col = 0)"
   ]
  },
  {
   "cell_type": "code",
   "execution_count": 3,
   "metadata": {
    "execution": {
     "iopub.execute_input": "2021-01-06T18:39:28.766781Z",
     "iopub.status.busy": "2021-01-06T18:39:28.766199Z",
     "iopub.status.idle": "2021-01-06T18:39:28.776066Z",
     "shell.execute_reply": "2021-01-06T18:39:28.775591Z"
    },
    "papermill": {
     "duration": 0.032392,
     "end_time": "2021-01-06T18:39:28.776169",
     "exception": false,
     "start_time": "2021-01-06T18:39:28.743777",
     "status": "completed"
    },
    "tags": []
   },
   "outputs": [
    {
     "data": {
      "text/html": [
       "<div>\n",
       "<style scoped>\n",
       "    .dataframe tbody tr th:only-of-type {\n",
       "        vertical-align: middle;\n",
       "    }\n",
       "\n",
       "    .dataframe tbody tr th {\n",
       "        vertical-align: top;\n",
       "    }\n",
       "\n",
       "    .dataframe thead th {\n",
       "        text-align: right;\n",
       "    }\n",
       "</style>\n",
       "<table border=\"1\" class=\"dataframe\">\n",
       "  <thead>\n",
       "    <tr style=\"text-align: right;\">\n",
       "      <th></th>\n",
       "      <th>Open</th>\n",
       "      <th>High</th>\n",
       "      <th>Low</th>\n",
       "      <th>Close</th>\n",
       "      <th>Volume</th>\n",
       "      <th>Dividends</th>\n",
       "      <th>Stock Splits</th>\n",
       "    </tr>\n",
       "    <tr>\n",
       "      <th>Date</th>\n",
       "      <th></th>\n",
       "      <th></th>\n",
       "      <th></th>\n",
       "      <th></th>\n",
       "      <th></th>\n",
       "      <th></th>\n",
       "      <th></th>\n",
       "    </tr>\n",
       "  </thead>\n",
       "  <tbody>\n",
       "    <tr>\n",
       "      <th>2004-08-19</th>\n",
       "      <td>49.813286</td>\n",
       "      <td>51.835709</td>\n",
       "      <td>47.800831</td>\n",
       "      <td>49.982655</td>\n",
       "      <td>44871300</td>\n",
       "      <td>0</td>\n",
       "      <td>0.0</td>\n",
       "    </tr>\n",
       "    <tr>\n",
       "      <th>2004-08-20</th>\n",
       "      <td>50.316402</td>\n",
       "      <td>54.336334</td>\n",
       "      <td>50.062355</td>\n",
       "      <td>53.952770</td>\n",
       "      <td>22942800</td>\n",
       "      <td>0</td>\n",
       "      <td>0.0</td>\n",
       "    </tr>\n",
       "    <tr>\n",
       "      <th>2004-08-23</th>\n",
       "      <td>55.168217</td>\n",
       "      <td>56.528118</td>\n",
       "      <td>54.321388</td>\n",
       "      <td>54.495735</td>\n",
       "      <td>18342800</td>\n",
       "      <td>0</td>\n",
       "      <td>0.0</td>\n",
       "    </tr>\n",
       "    <tr>\n",
       "      <th>2004-08-24</th>\n",
       "      <td>55.412300</td>\n",
       "      <td>55.591629</td>\n",
       "      <td>51.591621</td>\n",
       "      <td>52.239193</td>\n",
       "      <td>15319700</td>\n",
       "      <td>0</td>\n",
       "      <td>0.0</td>\n",
       "    </tr>\n",
       "    <tr>\n",
       "      <th>2004-08-25</th>\n",
       "      <td>52.284027</td>\n",
       "      <td>53.798351</td>\n",
       "      <td>51.746044</td>\n",
       "      <td>52.802086</td>\n",
       "      <td>9232100</td>\n",
       "      <td>0</td>\n",
       "      <td>0.0</td>\n",
       "    </tr>\n",
       "  </tbody>\n",
       "</table>\n",
       "</div>"
      ],
      "text/plain": [
       "                 Open       High        Low      Close    Volume  Dividends  \\\n",
       "Date                                                                          \n",
       "2004-08-19  49.813286  51.835709  47.800831  49.982655  44871300          0   \n",
       "2004-08-20  50.316402  54.336334  50.062355  53.952770  22942800          0   \n",
       "2004-08-23  55.168217  56.528118  54.321388  54.495735  18342800          0   \n",
       "2004-08-24  55.412300  55.591629  51.591621  52.239193  15319700          0   \n",
       "2004-08-25  52.284027  53.798351  51.746044  52.802086   9232100          0   \n",
       "\n",
       "            Stock Splits  \n",
       "Date                      \n",
       "2004-08-19           0.0  \n",
       "2004-08-20           0.0  \n",
       "2004-08-23           0.0  \n",
       "2004-08-24           0.0  \n",
       "2004-08-25           0.0  "
      ]
     },
     "execution_count": 3,
     "metadata": {},
     "output_type": "execute_result"
    }
   ],
   "source": [
    "df.head(5)"
   ]
  },
  {
   "cell_type": "code",
   "execution_count": 4,
   "metadata": {
    "execution": {
     "iopub.execute_input": "2021-01-06T18:39:28.807798Z",
     "iopub.status.busy": "2021-01-06T18:39:28.807045Z",
     "iopub.status.idle": "2021-01-06T18:39:28.809934Z",
     "shell.execute_reply": "2021-01-06T18:39:28.809451Z"
    },
    "papermill": {
     "duration": 0.02134,
     "end_time": "2021-01-06T18:39:28.810027",
     "exception": false,
     "start_time": "2021-01-06T18:39:28.788687",
     "status": "completed"
    },
    "tags": []
   },
   "outputs": [],
   "source": [
    "def make_data(df,win):\n",
    "    k = 0\n",
    "    x = []\n",
    "    y = []\n",
    "    while (k+win<len(df)-1):\n",
    "        xa = df[k:k+win]\n",
    "        ya = df[k+win+1]\n",
    "        x.append(xa)\n",
    "        y.append(ya)\n",
    "        k+=1\n",
    "    \n",
    "    x = np.array(x)\n",
    "    y = np.array(y)\n",
    "\n",
    "    return x,y"
   ]
  },
  {
   "cell_type": "code",
   "execution_count": 5,
   "metadata": {
    "execution": {
     "iopub.execute_input": "2021-01-06T18:39:28.839009Z",
     "iopub.status.busy": "2021-01-06T18:39:28.838143Z",
     "iopub.status.idle": "2021-01-06T18:39:28.840567Z",
     "shell.execute_reply": "2021-01-06T18:39:28.841154Z"
    },
    "papermill": {
     "duration": 0.019028,
     "end_time": "2021-01-06T18:39:28.841258",
     "exception": false,
     "start_time": "2021-01-06T18:39:28.822230",
     "status": "completed"
    },
    "tags": []
   },
   "outputs": [],
   "source": [
    "def split_data(x,y):\n",
    "    return train_test_split(x,y,test_size = 0.2,shuffle = False)"
   ]
  },
  {
   "cell_type": "code",
   "execution_count": 6,
   "metadata": {
    "execution": {
     "iopub.execute_input": "2021-01-06T18:39:28.871784Z",
     "iopub.status.busy": "2021-01-06T18:39:28.871160Z",
     "iopub.status.idle": "2021-01-06T18:39:28.874326Z",
     "shell.execute_reply": "2021-01-06T18:39:28.873867Z"
    },
    "papermill": {
     "duration": 0.020783,
     "end_time": "2021-01-06T18:39:28.874416",
     "exception": false,
     "start_time": "2021-01-06T18:39:28.853633",
     "status": "completed"
    },
    "tags": []
   },
   "outputs": [],
   "source": [
    "req_df = df['Open']\n",
    "scaler = MinMaxScaler(feature_range= (0,1))\n",
    "req_df = scaler.fit_transform(np.array(req_df).reshape(-1,1))"
   ]
  },
  {
   "cell_type": "code",
   "execution_count": 7,
   "metadata": {
    "execution": {
     "iopub.execute_input": "2021-01-06T18:39:28.911510Z",
     "iopub.status.busy": "2021-01-06T18:39:28.910702Z",
     "iopub.status.idle": "2021-01-06T18:39:28.921972Z",
     "shell.execute_reply": "2021-01-06T18:39:28.921496Z"
    },
    "papermill": {
     "duration": 0.035128,
     "end_time": "2021-01-06T18:39:28.922067",
     "exception": false,
     "start_time": "2021-01-06T18:39:28.886939",
     "status": "completed"
    },
    "tags": []
   },
   "outputs": [
    {
     "name": "stdout",
     "output_type": "stream",
     "text": [
      "(3272, 10, 1)\n",
      "(819, 1)\n",
      "(3272, 1)\n",
      "(819, 10, 1)\n"
     ]
    }
   ],
   "source": [
    "win = 10\n",
    "x,y = make_data(req_df,win)\n",
    "train_x,test_x,train_y,test_y = split_data(x,y)\n",
    "train_x = train_x.reshape(train_x.shape[0],win,1)\n",
    "test_x = test_x.reshape(test_x.shape[0],win,1)\n",
    "print(train_x.shape)\n",
    "print(test_y.shape)\n",
    "print(train_y.shape)\n",
    "print(test_x.shape)"
   ]
  },
  {
   "cell_type": "code",
   "execution_count": 8,
   "metadata": {
    "execution": {
     "iopub.execute_input": "2021-01-06T18:39:28.952609Z",
     "iopub.status.busy": "2021-01-06T18:39:28.951877Z",
     "iopub.status.idle": "2021-01-06T18:39:29.189782Z",
     "shell.execute_reply": "2021-01-06T18:39:29.190578Z"
    },
    "papermill": {
     "duration": 0.255782,
     "end_time": "2021-01-06T18:39:29.190796",
     "exception": false,
     "start_time": "2021-01-06T18:39:28.935014",
     "status": "completed"
    },
    "tags": []
   },
   "outputs": [
    {
     "data": {
      "text/plain": [
       "<matplotlib.axes._subplots.AxesSubplot at 0x7f70db040dd0>"
      ]
     },
     "execution_count": 8,
     "metadata": {},
     "output_type": "execute_result"
    },
    {
     "data": {
      "image/png": "[encoded data removed]",
      "text/plain": [
       "<Figure size 1152x432 with 1 Axes>"
      ]
     },
     "metadata": {
      "needs_background": "light"
     },
     "output_type": "display_data"
    }
   ],
   "source": [
    "df['Open'].plot(figsize = (16,6))"
   ]
  },
  {
   "cell_type": "code",
   "execution_count": 9,
   "metadata": {
    "execution": {
     "iopub.execute_input": "2021-01-06T18:39:29.256894Z",
     "iopub.status.busy": "2021-01-06T18:39:29.254656Z",
     "iopub.status.idle": "2021-01-06T18:39:32.851265Z",
     "shell.execute_reply": "2021-01-06T18:39:32.850158Z"
    },
    "papermill": {
     "duration": 3.631871,
     "end_time": "2021-01-06T18:39:32.851385",
     "exception": false,
     "start_time": "2021-01-06T18:39:29.219514",
     "status": "completed"
    },
    "tags": []
   },
   "outputs": [],
   "source": [
    "model=Sequential()\n",
    "model.add(LSTM(50,return_sequences=True,input_shape=(win,1)))\n",
    "model.add(Dropout(0.2))\n",
    "model.add(LSTM(50,return_sequences=True))\n",
    "model.add(Dropout(0.2))\n",
    "model.add(LSTM(50))\n",
    "model.add(Dropout(0.2))\n",
    "model.add(Dense(1))\n",
    "model.compile(loss='mean_squared_error',optimizer='adam')"
   ]
  },
  {
   "cell_type": "code",
   "execution_count": 10,
   "metadata": {
    "execution": {
     "iopub.execute_input": "2021-01-06T18:39:32.895796Z",
     "iopub.status.busy": "2021-01-06T18:39:32.892462Z",
     "iopub.status.idle": "2021-01-06T18:39:32.898421Z",
     "shell.execute_reply": "2021-01-06T18:39:32.897835Z"
    },
    "papermill": {
     "duration": 0.030817,
     "end_time": "2021-01-06T18:39:32.898520",
     "exception": false,
     "start_time": "2021-01-06T18:39:32.867703",
     "status": "completed"
    },
    "tags": []
   },
   "outputs": [
    {
     "name": "stdout",
     "output_type": "stream",
     "text": [
      "Model: \"sequential\"\n",
      "_________________________________________________________________\n",
      "Layer (type)                 Output Shape              Param #   \n",
      "=================================================================\n",
      "lstm (LSTM)                  (None, 10, 50)            10400     \n",
      "_________________________________________________________________\n",
      "dropout (Dropout)            (None, 10, 50)            0         \n",
      "_________________________________________________________________\n",
      "lstm_1 (LSTM)                (None, 10, 50)            20200     \n",
      "_________________________________________________________________\n",
      "dropout_1 (Dropout)          (None, 10, 50)            0         \n",
      "_________________________________________________________________\n",
      "lstm_2 (LSTM)                (None, 50)                20200     \n",
      "_________________________________________________________________\n",
      "dropout_2 (Dropout)          (None, 50)                0         \n",
      "_________________________________________________________________\n",
      "dense (Dense)                (None, 1)                 51        \n",
      "=================================================================\n",
      "Total params: 50,851\n",
      "Trainable params: 50,851\n",
      "Non-trainable params: 0\n",
      "_________________________________________________________________\n"
     ]
    }
   ],
   "source": [
    "model.summary()"
   ]
  },
  {
   "cell_type": "code",
   "execution_count": 11,
   "metadata": {
    "execution": {
     "iopub.execute_input": "2021-01-06T18:39:32.935756Z",
     "iopub.status.busy": "2021-01-06T18:39:32.935119Z",
     "iopub.status.idle": "2021-01-06T18:40:53.618396Z",
     "shell.execute_reply": "2021-01-06T18:40:53.617862Z"
    },
    "papermill": {
     "duration": 80.703677,
     "end_time": "2021-01-06T18:40:53.618505",
     "exception": false,
     "start_time": "2021-01-06T18:39:32.914828",
     "status": "completed"
    },
    "tags": []
   },
   "outputs": [
    {
     "name": "stdout",
     "output_type": "stream",
     "text": [
      "Epoch 1/100\n",
      "103/103 [==============================] - 2s 18ms/step - loss: 0.0031 - val_loss: 0.0019\n",
      "Epoch 2/100\n",
      "103/103 [==============================] - 1s 7ms/step - loss: 5.5148e-04 - val_loss: 0.0016\n",
      "Epoch 3/100\n",
      "103/103 [==============================] - 1s 7ms/step - loss: 4.5523e-04 - val_loss: 0.0030\n",
      "Epoch 4/100\n",
      "103/103 [==============================] - 1s 6ms/step - loss: 4.7489e-04 - val_loss: 0.0014\n",
      "Epoch 5/100\n",
      "103/103 [==============================] - 1s 6ms/step - loss: 4.0077e-04 - val_loss: 0.0011\n",
      "Epoch 6/100\n",
      "103/103 [==============================] - 1s 6ms/step - loss: 3.4728e-04 - val_loss: 0.0012\n",
      "Epoch 7/100\n",
      "103/103 [==============================] - 1s 6ms/step - loss: 3.7660e-04 - val_loss: 0.0012\n",
      "Epoch 8/100\n",
      "103/103 [==============================] - 1s 7ms/step - loss: 3.5166e-04 - val_loss: 0.0030\n",
      "Epoch 9/100\n",
      "103/103 [==============================] - 1s 7ms/step - loss: 3.3393e-04 - val_loss: 0.0020\n",
      "Epoch 10/100\n",
      "103/103 [==============================] - 1s 7ms/step - loss: 3.2499e-04 - val_loss: 9.2609e-04\n",
      "Epoch 11/100\n",
      "103/103 [==============================] - 1s 7ms/step - loss: 3.1231e-04 - val_loss: 0.0028\n",
      "Epoch 12/100\n",
      "103/103 [==============================] - 1s 7ms/step - loss: 3.0565e-04 - val_loss: 0.0012\n",
      "Epoch 13/100\n",
      "103/103 [==============================] - 1s 9ms/step - loss: 2.8466e-04 - val_loss: 0.0016\n",
      "Epoch 14/100\n",
      "103/103 [==============================] - 1s 9ms/step - loss: 2.6941e-04 - val_loss: 0.0010\n",
      "Epoch 15/100\n",
      "103/103 [==============================] - 1s 7ms/step - loss: 3.0400e-04 - val_loss: 8.2373e-04\n",
      "Epoch 16/100\n",
      "103/103 [==============================] - 1s 9ms/step - loss: 2.6435e-04 - val_loss: 0.0016\n",
      "Epoch 17/100\n",
      "103/103 [==============================] - 1s 9ms/step - loss: 2.5023e-04 - val_loss: 0.0020\n",
      "Epoch 18/100\n",
      "103/103 [==============================] - 1s 7ms/step - loss: 2.3914e-04 - val_loss: 0.0012\n",
      "Epoch 19/100\n",
      "103/103 [==============================] - 1s 7ms/step - loss: 2.3536e-04 - val_loss: 0.0010\n",
      "Epoch 20/100\n",
      "103/103 [==============================] - 1s 7ms/step - loss: 2.2921e-04 - val_loss: 8.2485e-04\n",
      "Epoch 21/100\n",
      "103/103 [==============================] - 1s 7ms/step - loss: 2.3067e-04 - val_loss: 9.3148e-04\n",
      "Epoch 22/100\n",
      "103/103 [==============================] - 1s 7ms/step - loss: 2.3191e-04 - val_loss: 0.0014\n",
      "Epoch 23/100\n",
      "103/103 [==============================] - 1s 7ms/step - loss: 2.4680e-04 - val_loss: 9.9665e-04\n",
      "Epoch 24/100\n",
      "103/103 [==============================] - 1s 6ms/step - loss: 2.3594e-04 - val_loss: 0.0015\n",
      "Epoch 25/100\n",
      "103/103 [==============================] - 1s 7ms/step - loss: 2.1113e-04 - val_loss: 0.0017\n",
      "Epoch 26/100\n",
      "103/103 [==============================] - 1s 6ms/step - loss: 2.1403e-04 - val_loss: 7.4012e-04\n",
      "Epoch 27/100\n",
      "103/103 [==============================] - 1s 6ms/step - loss: 2.3469e-04 - val_loss: 0.0023\n",
      "Epoch 28/100\n",
      "103/103 [==============================] - 1s 7ms/step - loss: 2.0328e-04 - val_loss: 8.0824e-04\n",
      "Epoch 29/100\n",
      "103/103 [==============================] - 1s 7ms/step - loss: 2.2096e-04 - val_loss: 0.0031\n",
      "Epoch 30/100\n",
      "103/103 [==============================] - 1s 9ms/step - loss: 2.2130e-04 - val_loss: 8.1835e-04\n",
      "Epoch 31/100\n",
      "103/103 [==============================] - 1s 7ms/step - loss: 2.0711e-04 - val_loss: 0.0033\n",
      "Epoch 32/100\n",
      "103/103 [==============================] - 1s 7ms/step - loss: 2.1118e-04 - val_loss: 0.0010\n",
      "Epoch 33/100\n",
      "103/103 [==============================] - 1s 6ms/step - loss: 1.8683e-04 - val_loss: 9.8891e-04\n",
      "Epoch 34/100\n",
      "103/103 [==============================] - 1s 6ms/step - loss: 2.2172e-04 - val_loss: 0.0019\n",
      "Epoch 35/100\n",
      "103/103 [==============================] - 1s 7ms/step - loss: 2.3138e-04 - val_loss: 6.7545e-04\n",
      "Epoch 36/100\n",
      "103/103 [==============================] - 1s 7ms/step - loss: 1.9017e-04 - val_loss: 6.2889e-04\n",
      "Epoch 37/100\n",
      "103/103 [==============================] - 1s 7ms/step - loss: 1.9193e-04 - val_loss: 9.9642e-04\n",
      "Epoch 38/100\n",
      "103/103 [==============================] - 1s 6ms/step - loss: 2.0012e-04 - val_loss: 7.8920e-04\n",
      "Epoch 39/100\n",
      "103/103 [==============================] - 1s 6ms/step - loss: 2.2438e-04 - val_loss: 7.2357e-04\n",
      "Epoch 40/100\n",
      "103/103 [==============================] - 1s 9ms/step - loss: 2.0373e-04 - val_loss: 0.0022\n",
      "Epoch 41/100\n",
      "103/103 [==============================] - 1s 7ms/step - loss: 2.0486e-04 - val_loss: 0.0013\n",
      "Epoch 42/100\n",
      "103/103 [==============================] - 1s 7ms/step - loss: 2.0042e-04 - val_loss: 0.0016\n",
      "Epoch 43/100\n",
      "103/103 [==============================] - 1s 7ms/step - loss: 1.9071e-04 - val_loss: 7.1409e-04\n",
      "Epoch 44/100\n",
      "103/103 [==============================] - 1s 6ms/step - loss: 1.9678e-04 - val_loss: 0.0022\n",
      "Epoch 45/100\n",
      "103/103 [==============================] - 1s 9ms/step - loss: 1.9738e-04 - val_loss: 7.0994e-04\n",
      "Epoch 46/100\n",
      "103/103 [==============================] - 1s 6ms/step - loss: 1.9417e-04 - val_loss: 0.0019\n",
      "Epoch 47/100\n",
      "103/103 [==============================] - 1s 7ms/step - loss: 2.0878e-04 - val_loss: 7.6479e-04\n",
      "Epoch 48/100\n",
      "103/103 [==============================] - 1s 6ms/step - loss: 2.2316e-04 - val_loss: 0.0017\n",
      "Epoch 49/100\n",
      "103/103 [==============================] - 1s 6ms/step - loss: 1.7764e-04 - val_loss: 0.0010\n",
      "Epoch 50/100\n",
      "103/103 [==============================] - 1s 7ms/step - loss: 1.9941e-04 - val_loss: 0.0014\n",
      "Epoch 51/100\n",
      "103/103 [==============================] - 1s 6ms/step - loss: 1.8914e-04 - val_loss: 6.7070e-04\n",
      "Epoch 52/100\n",
      "103/103 [==============================] - 1s 7ms/step - loss: 1.8126e-04 - val_loss: 0.0015\n",
      "Epoch 53/100\n",
      "103/103 [==============================] - 1s 7ms/step - loss: 2.0529e-04 - val_loss: 8.4725e-04\n",
      "Epoch 54/100\n",
      "103/103 [==============================] - 1s 7ms/step - loss: 1.6801e-04 - val_loss: 6.6806e-04\n",
      "Epoch 55/100\n",
      "103/103 [==============================] - 1s 7ms/step - loss: 1.7583e-04 - val_loss: 0.0012\n",
      "Epoch 56/100\n",
      "103/103 [==============================] - 1s 6ms/step - loss: 1.9326e-04 - val_loss: 9.8830e-04\n",
      "Epoch 57/100\n",
      "103/103 [==============================] - 1s 6ms/step - loss: 1.8329e-04 - val_loss: 7.3885e-04\n",
      "Epoch 58/100\n",
      "103/103 [==============================] - 1s 7ms/step - loss: 2.0771e-04 - val_loss: 0.0016\n",
      "Epoch 59/100\n",
      "103/103 [==============================] - 1s 7ms/step - loss: 1.8375e-04 - val_loss: 8.3725e-04\n",
      "Epoch 60/100\n",
      "103/103 [==============================] - 1s 7ms/step - loss: 1.7025e-04 - val_loss: 8.3188e-04\n",
      "Epoch 61/100\n",
      "103/103 [==============================] - 1s 8ms/step - loss: 1.6662e-04 - val_loss: 7.6125e-04\n",
      "Epoch 62/100\n",
      "103/103 [==============================] - 1s 7ms/step - loss: 1.9539e-04 - val_loss: 0.0011\n",
      "Epoch 63/100\n",
      "103/103 [==============================] - 1s 7ms/step - loss: 1.9812e-04 - val_loss: 8.9354e-04\n",
      "Epoch 64/100\n",
      "103/103 [==============================] - 1s 7ms/step - loss: 1.9038e-04 - val_loss: 8.3825e-04\n",
      "Epoch 65/100\n",
      "103/103 [==============================] - 1s 7ms/step - loss: 1.7714e-04 - val_loss: 0.0011\n",
      "Epoch 66/100\n",
      "103/103 [==============================] - 1s 6ms/step - loss: 1.7913e-04 - val_loss: 6.7979e-04\n",
      "Epoch 67/100\n",
      "103/103 [==============================] - 1s 6ms/step - loss: 1.7722e-04 - val_loss: 7.0241e-04\n",
      "Epoch 68/100\n",
      "103/103 [==============================] - 1s 6ms/step - loss: 1.7661e-04 - val_loss: 0.0017\n",
      "Epoch 69/100\n",
      "103/103 [==============================] - 1s 6ms/step - loss: 1.9161e-04 - val_loss: 0.0015\n",
      "Epoch 70/100\n",
      "103/103 [==============================] - 1s 6ms/step - loss: 1.8491e-04 - val_loss: 0.0010\n",
      "Epoch 71/100\n",
      "103/103 [==============================] - 1s 7ms/step - loss: 2.0220e-04 - val_loss: 0.0012\n",
      "Epoch 72/100\n",
      "103/103 [==============================] - 1s 7ms/step - loss: 1.9088e-04 - val_loss: 0.0018\n",
      "Epoch 73/100\n",
      "103/103 [==============================] - 1s 6ms/step - loss: 1.8984e-04 - val_loss: 0.0026\n",
      "Epoch 74/100\n",
      "103/103 [==============================] - 1s 8ms/step - loss: 2.1138e-04 - val_loss: 9.3546e-04\n",
      "Epoch 75/100\n",
      "103/103 [==============================] - 1s 6ms/step - loss: 2.0948e-04 - val_loss: 0.0013\n",
      "Epoch 76/100\n",
      "103/103 [==============================] - 1s 8ms/step - loss: 1.9324e-04 - val_loss: 0.0011\n",
      "Epoch 77/100\n",
      "103/103 [==============================] - 1s 7ms/step - loss: 1.7930e-04 - val_loss: 9.4522e-04\n",
      "Epoch 78/100\n",
      "103/103 [==============================] - 1s 7ms/step - loss: 1.7453e-04 - val_loss: 0.0028\n",
      "Epoch 79/100\n",
      "103/103 [==============================] - 1s 7ms/step - loss: 1.6997e-04 - val_loss: 0.0018\n",
      "Epoch 80/100\n",
      "103/103 [==============================] - 1s 7ms/step - loss: 1.8843e-04 - val_loss: 0.0010\n",
      "Epoch 81/100\n",
      "103/103 [==============================] - 1s 6ms/step - loss: 1.7509e-04 - val_loss: 0.0022\n",
      "Epoch 82/100\n",
      "103/103 [==============================] - 1s 7ms/step - loss: 1.6968e-04 - val_loss: 0.0026\n",
      "Epoch 83/100\n",
      "103/103 [==============================] - 1s 7ms/step - loss: 1.6406e-04 - val_loss: 0.0033\n",
      "Epoch 84/100\n",
      "103/103 [==============================] - 1s 8ms/step - loss: 1.8214e-04 - val_loss: 0.0013\n",
      "Epoch 85/100\n",
      "103/103 [==============================] - 1s 8ms/step - loss: 1.9428e-04 - val_loss: 0.0034\n",
      "Epoch 86/100\n",
      "103/103 [==============================] - 1s 7ms/step - loss: 1.8848e-04 - val_loss: 0.0013\n",
      "Epoch 87/100\n",
      "103/103 [==============================] - 1s 7ms/step - loss: 1.6662e-04 - val_loss: 0.0033\n",
      "Epoch 88/100\n",
      "103/103 [==============================] - 1s 7ms/step - loss: 1.7123e-04 - val_loss: 0.0019\n",
      "Epoch 89/100\n",
      "103/103 [==============================] - 1s 7ms/step - loss: 1.8979e-04 - val_loss: 0.0021\n",
      "Epoch 90/100\n",
      "103/103 [==============================] - 1s 7ms/step - loss: 2.0536e-04 - val_loss: 0.0026\n",
      "Epoch 91/100\n",
      "103/103 [==============================] - 1s 8ms/step - loss: 1.8345e-04 - val_loss: 0.0023\n",
      "Epoch 92/100\n",
      "103/103 [==============================] - 1s 8ms/step - loss: 1.7266e-04 - val_loss: 0.0059\n",
      "Epoch 93/100\n",
      "103/103 [==============================] - 1s 7ms/step - loss: 1.7014e-04 - val_loss: 0.0031\n",
      "Epoch 94/100\n",
      "103/103 [==============================] - 1s 7ms/step - loss: 1.8330e-04 - val_loss: 0.0037\n",
      "Epoch 95/100\n",
      "103/103 [==============================] - 1s 7ms/step - loss: 1.6984e-04 - val_loss: 0.0048\n",
      "Epoch 96/100\n",
      "103/103 [==============================] - 1s 10ms/step - loss: 1.6325e-04 - val_loss: 0.0016\n",
      "Epoch 97/100\n",
      "103/103 [==============================] - 1s 8ms/step - loss: 1.7742e-04 - val_loss: 0.0024\n",
      "Epoch 98/100\n",
      "103/103 [==============================] - 1s 7ms/step - loss: 1.6438e-04 - val_loss: 0.0032\n",
      "Epoch 99/100\n",
      "103/103 [==============================] - 1s 7ms/step - loss: 1.8320e-04 - val_loss: 0.0024\n",
      "Epoch 100/100\n",
      "103/103 [==============================] - 1s 8ms/step - loss: 1.6814e-04 - val_loss: 0.0028\n"
     ]
    },
    {
     "data": {
      "text/plain": [
       "<tensorflow.python.keras.callbacks.History at 0x7f70d82cb2d0>"
      ]
     },
     "execution_count": 11,
     "metadata": {},
     "output_type": "execute_result"
    }
   ],
   "source": [
    "model.fit(train_x,train_y,validation_data = (test_x,test_y),batch_size = 32, epochs = 100,verbose = 1)"
   ]
  },
  {
   "cell_type": "code",
   "execution_count": 12,
   "metadata": {
    "execution": {
     "iopub.execute_input": "2021-01-06T18:40:54.590360Z",
     "iopub.status.busy": "2021-01-06T18:40:54.589425Z",
     "iopub.status.idle": "2021-01-06T18:40:55.573357Z",
     "shell.execute_reply": "2021-01-06T18:40:55.572786Z"
    },
    "papermill": {
     "duration": 1.467598,
     "end_time": "2021-01-06T18:40:55.573470",
     "exception": false,
     "start_time": "2021-01-06T18:40:54.105872",
     "status": "completed"
    },
    "tags": []
   },
   "outputs": [],
   "source": [
    "scaled_pred = model.predict(test_x)"
   ]
  },
  {
   "cell_type": "code",
   "execution_count": 13,
   "metadata": {
    "execution": {
     "iopub.execute_input": "2021-01-06T18:40:56.560043Z",
     "iopub.status.busy": "2021-01-06T18:40:56.558224Z",
     "iopub.status.idle": "2021-01-06T18:40:56.560679Z",
     "shell.execute_reply": "2021-01-06T18:40:56.561164Z"
    },
    "papermill": {
     "duration": 0.508255,
     "end_time": "2021-01-06T18:40:56.561284",
     "exception": false,
     "start_time": "2021-01-06T18:40:56.053029",
     "status": "completed"
    },
    "tags": []
   },
   "outputs": [],
   "source": [
    "pred = scaler.inverse_transform(scaled_pred)"
   ]
  },
  {
   "cell_type": "code",
   "execution_count": 14,
   "metadata": {
    "execution": {
     "iopub.execute_input": "2021-01-06T18:40:57.632299Z",
     "iopub.status.busy": "2021-01-06T18:40:57.620065Z",
     "iopub.status.idle": "2021-01-06T18:40:57.765371Z",
     "shell.execute_reply": "2021-01-06T18:40:57.765909Z"
    },
    "papermill": {
     "duration": 0.692102,
     "end_time": "2021-01-06T18:40:57.766043",
     "exception": false,
     "start_time": "2021-01-06T18:40:57.073941",
     "status": "completed"
    },
    "tags": []
   },
   "outputs": [
    {
     "data": {
      "image/png": "[encoded data removed]",
      "text/plain": [
       "<Figure size 432x288 with 1 Axes>"
      ]
     },
     "metadata": {
      "needs_background": "light"
     },
     "output_type": "display_data"
    }
   ],
   "source": [
    "org_data = np.array(df['Open'])\n",
    "pred_x = np.arange(int(.8*len(df)),len(org_data)-2)\n",
    "org_x = np.arange(len(req_df))\n",
    "plt.plot(org_x,df['Open'])\n",
    "plt.plot(pred_x,pred)\n",
    "plt.show()"
   ]
  },
  {
   "cell_type": "code",
   "execution_count": 15,
   "metadata": {
    "execution": {
     "iopub.execute_input": "2021-01-06T18:40:59.040137Z",
     "iopub.status.busy": "2021-01-06T18:40:59.039397Z",
     "iopub.status.idle": "2021-01-06T18:40:59.042905Z",
     "shell.execute_reply": "2021-01-06T18:40:59.043375Z"
    },
    "papermill": {
     "duration": 0.515548,
     "end_time": "2021-01-06T18:40:59.043505",
     "exception": false,
     "start_time": "2021-01-06T18:40:58.527957",
     "status": "completed"
    },
    "tags": []
   },
   "outputs": [
    {
     "data": {
      "text/plain": [
       "0.0028187853883312637"
      ]
     },
     "execution_count": 15,
     "metadata": {},
     "output_type": "execute_result"
    }
   ],
   "source": [
    "mean_squared_error(scaled_pred,test_y)"
   ]
  },
  {
   "cell_type": "code",
   "execution_count": 16,
   "metadata": {
    "execution": {
     "iopub.execute_input": "2021-01-06T18:41:00.015521Z",
     "iopub.status.busy": "2021-01-06T18:41:00.014834Z",
     "iopub.status.idle": "2021-01-06T18:41:00.019702Z",
     "shell.execute_reply": "2021-01-06T18:41:00.019185Z"
    },
    "papermill": {
     "duration": 0.489133,
     "end_time": "2021-01-06T18:41:00.019816",
     "exception": false,
     "start_time": "2021-01-06T18:40:59.530683",
     "status": "completed"
    },
    "tags": []
   },
   "outputs": [
    {
     "data": {
      "text/plain": [
       "((4102,), (4102,))"
      ]
     },
     "execution_count": 16,
     "metadata": {},
     "output_type": "execute_result"
    }
   ],
   "source": [
    "org_x.shape,df['Open'].shape"
   ]
  },
  {
   "cell_type": "code",
   "execution_count": null,
   "metadata": {
    "papermill": {
     "duration": 0.475014,
     "end_time": "2021-01-06T18:41:00.970250",
     "exception": false,
     "start_time": "2021-01-06T18:41:00.495236",
     "status": "completed"
    },
    "tags": []
   },
   "outputs": [],
   "source": []
  }
 ],
 "metadata": {
  "kernelspec": {
   "display_name": "Python 3",
   "language": "python",
   "name": "python3"
  },
  "language_info": {
   "codemirror_mode": {
    "name": "ipython",
    "version": 3
   },
   "file_extension": ".py",
   "mimetype": "text/x-python",
   "name": "python",
   "nbconvert_exporter": "python",
   "pygments_lexer": "ipython3",
   "version": "3.7.6"
  },
  "papermill": {
   "duration": 103.785129,
   "end_time": "2021-01-06T18:41:03.230320",
   "environment_variables": {},
   "exception": null,
   "input_path": "__notebook__.ipynb",
   "output_path": "__notebook__.ipynb",
   "parameters": {},
   "start_time": "2021-01-06T18:39:19.445191",
   "version": "2.1.0"
  }
 },
 "nbformat": 4,
 "nbformat_minor": 4
}
